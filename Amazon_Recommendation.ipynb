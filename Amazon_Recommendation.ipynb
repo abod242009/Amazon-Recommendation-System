{
 "cells": [
  {
   "cell_type": "markdown",
   "id": "42d7aa20",
   "metadata": {},
   "source": [
    "# Amazon Product Recommendation System\n",
    "This notebook implements different recommendation system approaches on the Amazon Electronics dataset. Models include Popularity-based, User-User, Item-Item, and Matrix Factorization (SVD). Performance is evaluated using Precision@10 and Recall@10."
   ]
  },
  {
   "cell_type": "code",
   "execution_count": null,
   "id": "cf431fc2",
   "metadata": {},
   "outputs": [],
   "source": [
    "\n",
    "!pip install -q scikit-surprise\n",
    "\n",
    "import pandas as pd, numpy as np\n",
    "import matplotlib.pyplot as plt\n",
    "from collections import defaultdict\n",
    "from surprise import Dataset, Reader, KNNBasic, SVD\n",
    "from surprise.model_selection import train_test_split, GridSearchCV\n"
   ]
  },
  {
   "cell_type": "code",
   "execution_count": null,
   "id": "d7158445",
   "metadata": {},
   "outputs": [],
   "source": [
    "\n",
    "# --- Load & Filter ---\n",
    "df = pd.read_csv('ratings_Electronics.csv', header=None,\n",
    "                 names=['userId','productId','rating','timestamp'])\n",
    "df.drop(columns=['timestamp'], inplace=True)\n",
    "\n",
    "user_counts = df['userId'].value_counts()\n",
    "item_counts = df['productId'].value_counts()\n",
    "\n",
    "df_f = df[df['userId'].isin(user_counts[user_counts>=50].index) &\n",
    "          df['productId'].isin(item_counts[item_counts>=5].index)].copy()\n",
    "\n",
    "print(df_f.shape)\n",
    "df_f.head()\n"
   ]
  },
  {
   "cell_type": "code",
   "execution_count": null,
   "id": "46b3eef1",
   "metadata": {},
   "outputs": [],
   "source": [
    "\n",
    "# --- Popularity Top-N ---\n",
    "def top_n_by_min_interactions(dataframe, min_interactions=50, topn=5):\n",
    "    g = dataframe.groupby('productId').agg(count=('rating','count'), mean=('rating','mean'))\n",
    "    g = g[g['count']>=min_interactions].sort_values(['count','mean'], ascending=[False,False])\n",
    "    return g.head(topn).reset_index()\n",
    "\n",
    "top5_50 = top_n_by_min_interactions(df_f, 50, 5)\n",
    "top5_100 = top_n_by_min_interactions(df_f, 100, 5)\n",
    "top5_50, top5_100\n"
   ]
  },
  {
   "cell_type": "code",
   "execution_count": null,
   "id": "a0f4d852",
   "metadata": {},
   "outputs": [],
   "source": [
    "\n",
    "# --- Surprise Splits ---\n",
    "def surprise_splits(dataframe, test_size=0.2, seed=42):\n",
    "    reader = Reader(rating_scale=(1,5))\n",
    "    data = Dataset.load_from_df(dataframe[['userId','productId','rating']], reader)\n",
    "    return train_test_split(data, test_size=test_size, random_state=seed)\n",
    "\n",
    "trainset, testset = surprise_splits(df_f)\n",
    "\n",
    "# --- Metrics ---\n",
    "def precision_recall_at_k(predictions, k=10, threshold=3.5):\n",
    "    user_est_true = defaultdict(list)\n",
    "    for uid, _, true_r, est, _ in predictions:\n",
    "        user_est_true[uid].append((est, true_r))\n",
    "\n",
    "    precisions, recalls = {}, {}\n",
    "    for uid, ratings in user_est_true.items():\n",
    "        ratings.sort(key=lambda x: x[0], reverse=True)\n",
    "        n_rel = sum(true_r >= threshold for _, true_r in ratings)\n",
    "        n_rec_k = sum(est >= threshold for est, _ in ratings[:k])\n",
    "        n_rel_and_rec_k = sum((true_r >= threshold and est >= threshold) for est, true_r in ratings[:k])\n",
    "        precisions[uid] = n_rel_and_rec_k / n_rec_k if n_rec_k else 0\n",
    "        recalls[uid] = n_rel_and_rec_k / n_rel if n_rel else 0\n",
    "    return float(np.mean(list(precisions.values()))), float(np.mean(list(recalls.values())))\n"
   ]
  },
  {
   "cell_type": "code",
   "execution_count": null,
   "id": "7ff18edb",
   "metadata": {},
   "outputs": [],
   "source": [
    "\n",
    "# --- User-User Collaborative Filtering ---\n",
    "uu_base = KNNBasic(sim_options={'name':'cosine','user_based':True})\n",
    "uu_base.fit(trainset); preds = uu_base.test(testset)\n",
    "p10_uu_b, r10_uu_b = precision_recall_at_k(preds, 10)\n",
    "\n",
    "param_grid_uu = {'k':[20,40,60], 'min_k':[1,5],\n",
    "                 'sim_options':{'name':['cosine','pearson'],'user_based':[True]}}\n",
    "gs_uu = GridSearchCV(KNNBasic, param_grid_uu, measures=['rmse'], cv=3)\n",
    "reader = Reader(rating_scale=(1,5))\n",
    "data_all = Dataset.load_from_df(df_f[['userId','productId','rating']], reader)\n",
    "gs_uu.fit(data_all); uu_best = gs_uu.best_estimator['rmse']\n",
    "uu_best.fit(trainset); preds = uu_best.test(testset)\n",
    "p10_uu_t, r10_uu_t = precision_recall_at_k(preds, 10)\n"
   ]
  },
  {
   "cell_type": "code",
   "execution_count": null,
   "id": "62f5e051",
   "metadata": {},
   "outputs": [],
   "source": [
    "\n",
    "# --- Item-Item Collaborative Filtering ---\n",
    "ii_base = KNNBasic(sim_options={'name':'cosine','user_based':False})\n",
    "ii_base.fit(trainset); preds = ii_base.test(testset)\n",
    "p10_ii_b, r10_ii_b = precision_recall_at_k(preds, 10)\n",
    "\n",
    "param_grid_ii = {'k':[20,40,60,80], 'min_k':[1,5],\n",
    "                 'sim_options':{'name':['cosine','pearson','pearson_baseline'],'user_based':[False]}}\n",
    "gs_ii = GridSearchCV(KNNBasic, param_grid_ii, measures=['rmse'], cv=3)\n",
    "gs_ii.fit(data_all); ii_best = gs_ii.best_estimator['rmse']\n",
    "ii_best.fit(trainset); preds = ii_best.test(testset)\n",
    "p10_ii_t, r10_ii_t = precision_recall_at_k(preds, 10)\n"
   ]
  },
  {
   "cell_type": "code",
   "execution_count": null,
   "id": "4baeb6a0",
   "metadata": {},
   "outputs": [],
   "source": [
    "\n",
    "# --- SVD (Matrix Factorization) ---\n",
    "svd_base = SVD(); svd_base.fit(trainset); preds = svd_base.test(testset)\n",
    "p10_svd_b, r10_svd_b = precision_recall_at_k(preds, 10)\n",
    "\n",
    "param_grid_svd = {'n_factors':[50,100,150],'n_epochs':[20,40],\n",
    "                  'lr_all':[0.002,0.005],'reg_all':[0.02,0.1]}\n",
    "gs_svd = GridSearchCV(SVD, param_grid_svd, measures=['rmse'], cv=3)\n",
    "gs_svd.fit(data_all); svd_best = gs_svd.best_estimator['rmse']\n",
    "svd_best.fit(trainset); preds = svd_best.test(testset)\n",
    "p10_svd_t, r10_svd_t = precision_recall_at_k(preds, 10)\n"
   ]
  },
  {
   "cell_type": "code",
   "execution_count": null,
   "id": "0a80d07c",
   "metadata": {},
   "outputs": [],
   "source": [
    "\n",
    "# --- Results dict ---\n",
    "results = {\n",
    "    'Popularity (expected)': {'P@10':0.23, 'R@10':0.11},\n",
    "    'User-User Base': {'P@10':p10_uu_b, 'R@10':r10_uu_b},\n",
    "    'User-User Tuned': {'P@10':p10_uu_t, 'R@10':r10_uu_t},\n",
    "    'Item-Item Base': {'P@10':p10_ii_b, 'R@10':r10_ii_b},\n",
    "    'Item-Item Tuned': {'P@10':p10_ii_t, 'R@10':r10_ii_t},\n",
    "    'SVD Base': {'P@10':p10_svd_b, 'R@10':r10_svd_b},\n",
    "    'SVD Tuned': {'P@10':p10_svd_t, 'R@10':r10_svd_t},\n",
    "}\n",
    "print(results)\n"
   ]
  }
 ],
 "metadata": {},
 "nbformat": 4,
 "nbformat_minor": 5
}